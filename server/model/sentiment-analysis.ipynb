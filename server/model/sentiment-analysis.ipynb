{
 "cells": [
  {
   "cell_type": "markdown",
   "metadata": {},
   "source": [
    "#### References:\n",
    "\n",
    "@InProceedings{maas-EtAl:2011:ACL-HLT2011,<br/>\n",
    "  &ensp;&ensp;&ensp;author = {Maas, Andrew L. and Daly, Raymond E. and Pham, Peter T. and Huang, Dan and Ng, Andrew Y. and Potts, Christopher},<br/>\n",
    "  &ensp;&ensp;&ensp;title = {Learning Word Vectors for Sentiment Analysis},<br/>\n",
    "  &ensp;&ensp;&ensp;booktitle = {Proceedings of the 49th Annual Meeting of the Association for Computational Linguistics: Human Language Technologies},<br/>\n",
    "  &ensp;&ensp;&ensp;month = {June},<br/>\n",
    "  &ensp;&ensp;&ensp;year = {2011},<br/>\n",
    "  &ensp;&ensp;&ensp;address = {Portland, Oregon, USA},<br/>\n",
    "  &ensp;&ensp;&ensp;publisher = {Association for Computational Linguistics},<br/>\n",
    "  &ensp;&ensp;&ensp;pages = {142--150},<br/>\n",
    "  &ensp;&ensp;&ensp;url = {http://www.aclweb.org/anthology/P11-1015}<br/>\n",
    "}"
   ]
  },
  {
   "cell_type": "code",
   "execution_count": 1,
   "metadata": {},
   "outputs": [
    {
     "name": "stderr",
     "output_type": "stream",
     "text": [
      "[nltk_data] Downloading package punkt to\n",
      "[nltk_data]     C:\\Users\\dejon\\AppData\\Roaming\\nltk_data...\n",
      "[nltk_data]   Package punkt is already up-to-date!\n",
      "[nltk_data] Downloading package stopwords to\n",
      "[nltk_data]     C:\\Users\\dejon\\AppData\\Roaming\\nltk_data...\n",
      "[nltk_data]   Package stopwords is already up-to-date!\n",
      "[nltk_data] Downloading package averaged_perceptron_tagger to\n",
      "[nltk_data]     C:\\Users\\dejon\\AppData\\Roaming\\nltk_data...\n",
      "[nltk_data]   Package averaged_perceptron_tagger is already up-to-\n",
      "[nltk_data]       date!\n",
      "[nltk_data] Downloading package wordnet to\n",
      "[nltk_data]     C:\\Users\\dejon\\AppData\\Roaming\\nltk_data...\n",
      "[nltk_data]   Package wordnet is already up-to-date!\n"
     ]
    }
   ],
   "source": [
    "# common libraries\n",
    "import joblib\n",
    "import os\n",
    "import re\n",
    "from matplotlib import pyplot as plt\n",
    "import numpy as np\n",
    "import pandas as pd\n",
    "import string\n",
    "import tabulate\n",
    "\n",
    "# natural language toolkit libraries\n",
    "import nltk\n",
    "nltk.download('punkt')\n",
    "nltk.download('stopwords')\n",
    "nltk.download('averaged_perceptron_tagger')\n",
    "nltk.download('wordnet')\n",
    "from nltk.corpus import wordnet, stopwords\n",
    "from nltk.stem import WordNetLemmatizer\n",
    "from nltk.tokenize import word_tokenize\n",
    "\n",
    "# machine learning libraries\n",
    "from sklearn.model_selection import train_test_split\n",
    "from sklearn.feature_extraction.text import TfidfVectorizer\n",
    "import sklearn.metrics as mtr\n",
    "from sklearn.naive_bayes import MultinomialNB\n",
    "import tensorflow as tf\n",
    "import tensorflow_datasets as tfds\n",
    "from tensorflow.keras.preprocessing.text import Tokenizer\n",
    "\n",
    "# bidirectional encoder representations from transformers sentiment analysis\n",
    "# hugging face ai platforms\n",
    "from transformers import BertTokenizer, TFBertForSequenceClassification\n",
    "from transformers import InputExample, InputFeatures\n",
    "\n",
    "# files\n",
    "from contractions import CONTRACTION_MAP"
   ]
  },
  {
   "cell_type": "code",
   "execution_count": 2,
   "metadata": {},
   "outputs": [
    {
     "name": "stdout",
     "output_type": "stream",
     "text": [
      "Version: 2.7.0\n",
      "GPU: AVAILABLE\n"
     ]
    }
   ],
   "source": [
    "# check tensorflow version and is gpu available\n",
    "is_available = \"AVAILABLE\" if tf.config.list_physical_devices(\"GPU\") else \"NOT AVAILABLE\"\n",
    "print(f\"Version: {tf.__version__}\\nGPU: {is_available}\")"
   ]
  },
  {
   "cell_type": "code",
   "execution_count": null,
   "metadata": {},
   "outputs": [],
   "source": [
    "# download IMDB dataset\n",
    "tfds.load(name='imdb_reviews', data_dir='[replace with your own data directory]', download=True)"
   ]
  },
  {
   "cell_type": "markdown",
   "metadata": {},
   "source": [
    "#### Load Dataset or Build and Clean from Tensorflow Dataset"
   ]
  },
  {
   "cell_type": "code",
   "execution_count": 3,
   "metadata": {},
   "outputs": [],
   "source": [
    "def build_and_clean():\n",
    "    # tensorflow load train dataset\n",
    "    builder = tfds.core.builder_from_directory('D:\\\\Portfolio\\\\nlp-web-app\\\\model\\\\imdb_reviews\\\\plain_text\\\\1.0.0')\n",
    "\n",
    "    # as_supervised argument - set the structure of the dataset as input and label\n",
    "    dataset = builder.as_dataset(split=('train', 'test'), shuffle_files=True, as_supervised=True)      # 70% train 30% test\n",
    "    train, test = dataset\n",
    "    data = train.concatenate(test)\n",
    "    data = tfds.as_dataframe(ds=data, ds_info=builder.info)     # require jinja2\n",
    "    print(f\"Train + Test Size: {len(data)}\")\n",
    "\n",
    "    df_train, df_test = split_dataset(data)\n",
    "    return df_train, df_test\n",
    "\n",
    "def split_dataset(data):\n",
    "    # split data into 70:30\n",
    "    # random_state: ensure the splits generated are reproducible (persistant)\n",
    "    train_set, test_set = train_test_split(data, test_size=0.3, shuffle=True, random_state=42)\n",
    "    print(f\"Train: {len(train_set)}, Test: {len(test_set)}\")\n",
    "\n",
    "    # deep copy of dataframe\n",
    "    df_train = train_set.copy(deep=True)    # label 0 = negative; 1 = positive\n",
    "    df_test = test_set.copy(deep=True)\n",
    "\n",
    "    # remove trailing and leading whitespace and lowercase\n",
    "    df_train['text'] = [x.decode('utf-8').strip().lower() for x in df_train.text]\n",
    "    df_test['text'] = [x.decode('utf-8').strip().lower() for x in df_test.text]\n",
    "    return df_train, df_test\n",
    "\n",
    "\n",
    "def save_train_test_dataset(df_train, df_test):\n",
    "    # output the dataframes from the preprocessing above into csv files\n",
    "    # so that in future we just have to load in the csv files.\n",
    "    df_train.to_csv('train.csv', index=False, encoding='utf-8')\n",
    "    df_test.to_csv('test.csv', index=False, encoding='utf-8')"
   ]
  },
  {
   "cell_type": "code",
   "execution_count": 4,
   "metadata": {},
   "outputs": [],
   "source": [
    "# reference: https://towardsdatascience.com/nlp-learning-series-part-1-text-preprocessing-methods-for-deep-learning-20085601684b\n",
    "# reference: https://stackoverflow.com/questions/265960/best-way-to-strip-punctuation-from-a-string\n",
    "# things to consider: drop rows with empty text and spelling corrections\n",
    "def remove_html_tags(text):\n",
    "    if bool(re.search(r'<.*?>', text)):\n",
    "        text = re.sub(r'<.*?>', ' ', text)\n",
    "    return text\n",
    "\n",
    "\n",
    "# expand contractions, e.g., don't -> do not, purpose is to standardize our text\n",
    "def get_contractions(contraction_mapping):\n",
    "    contraction_regex = re.compile('(%s)' % '|'.join(contraction_mapping.keys()))\n",
    "    return contraction_mapping, contraction_regex\n",
    "\n",
    "contractions, contractions_pattern = get_contractions(CONTRACTION_MAP)\n",
    "\n",
    "def replace_contractions(text):\n",
    "    def replace(match):\n",
    "        return contractions[match.group(0)]\n",
    "    return contractions_pattern.sub(replace, text)\n",
    "\n",
    "\n",
    "def add_space_between_punctuations(text):\n",
    "    text = re.sub(r'([a-zA-Z])([,.!()])', r'\\1\\2 ', text)       # add space between punctuations and letters\n",
    "    return text\n",
    "\n",
    "\n",
    "def remove_stopwords(text):\n",
    "    stopword_list = stopwords.words('english')\n",
    "    stopword_list = [item for item in stopword_list if item not in ('no', 'not', 'nor', 'any', 'too')]  # useful information\n",
    "    words = word_tokenize(text)\n",
    "    filtered_words = [word for word in words if not word in stopword_list] \n",
    "    return ' '.join(filtered_words)\n",
    "\n",
    "\n",
    "def remove_punctuations(text, filters):\n",
    "    text = text.translate(str.maketrans('', '', filters))\n",
    "    return text\n",
    "\n",
    "\n",
    "def remove_multiple_whitespace(text):\n",
    "    text = re.sub(' +', ' ', text)\n",
    "    return text\n",
    "\n",
    "\n",
    "# main function to clean text - ordering of function can be a factor for data cleaning\n",
    "def clean_text(text, remove_stopword=False, use_bert=False):\n",
    "    text = remove_html_tags(text)\n",
    "    text = add_space_between_punctuations(text)\n",
    "    text = replace_contractions(text)\n",
    "    \n",
    "    if not use_bert:        # allow text in bert (bidirectional encoder representations from transformers)\n",
    "        text = re.sub(r'\\+|\\d+', '', text)\n",
    "\n",
    "    if remove_stopword:\n",
    "        text = remove_stopwords(text)\n",
    "\n",
    "    # reference: https://github.com/hmohebbi/SentimentAnalysis/blob/master/main.ipynb\n",
    "    # save certain punctuations if using bert because bert embeddings was trained on wikipedia\n",
    "    filters = string.punctuation + \"\\t\\n\"\n",
    "    if use_bert:\n",
    "        text = re.sub(r'\\!+', '!', text)\n",
    "        text = re.sub(r'\\!+', '!', text)\n",
    "        filters = set(filters) - set(\"-'!?).;,/:(\")\n",
    "        filters = ''.join(filters)\n",
    "    text = remove_punctuations(text, filters)\n",
    "\n",
    "    if use_bert:        # remove empty brackets\n",
    "        text = re.sub(r'\\( *\\)', ' ', text)\n",
    "\n",
    "    text = remove_multiple_whitespace(text)\n",
    "    return text\n",
    "\n",
    "\n",
    "# part of speeh tagging and wordnet lemmatization\n",
    "# convert penn treebank tag to wordnet tag\n",
    "# reference: https://github.com/prateek22sri/Sentiment-analysis/blob/master/unigramSentiWordNet.py\n",
    "# reference: https://github.com/KT12/tag-lemmatize/blob/master/tag-lemmatize.py\n",
    "# reference: https://wordnet.princeton.edu/documentation/wnintro3wn\n",
    "# other techniques include stemming\n",
    "# stemming is not use in this context as it removes or stems the last few characters, often leading to incorrect spelling\n",
    "def convert_tag(penn_tag):\n",
    "    \"\"\"\n",
    "    Convert between PennTreebank to WordNet tags\n",
    "    \"\"\"\n",
    "    if penn_tag.startswith('N'):     # Noun\n",
    "        return wordnet.NOUN\n",
    "    elif penn_tag.startswith('V'):   # Verb\n",
    "        return wordnet.VERB\n",
    "    elif penn_tag.startswith('J'):   # Adjective\n",
    "        return wordnet.ADJ\n",
    "    elif penn_tag.startswith('S'):   # Adjective Satellite\n",
    "        return 's'\n",
    "    elif penn_tag.startswith('R'):   # Adverb\n",
    "        return wordnet.ADV\n",
    "    else:\n",
    "        return None  # other parts of speech will be returned as none\n",
    "\n",
    "def pos_and_lemm(text):       # part-of-speech tagging and word lemmatization\n",
    "    elements = word_tokenize(text)      # tokenize the words\n",
    "    lemmatizer = WordNetLemmatizer()\n",
    "    sentence = nltk.pos_tag(elements)\n",
    "    words = []\n",
    "\n",
    "    # list of tuples [('token'), 'tag'), ('token2'), 'tag2'...]\n",
    "    for word, tag in sentence:\n",
    "        wn_tag = convert_tag(tag)\n",
    "        if wn_tag is None:\n",
    "            continue\n",
    "        words.append(lemmatizer.lemmatize(word, wn_tag))\n",
    "    \n",
    "    return ' '.join(words)      # O(n) time complexity, if use += it will be O(n^2)"
   ]
  },
  {
   "cell_type": "code",
   "execution_count": 5,
   "metadata": {},
   "outputs": [],
   "source": [
    "def preprocess_train_and_test(df_train, df_test, save_preprocessed_data=True):\n",
    "    # this section will take the longest time\n",
    "    # clean the entire train and test data and separate into new column\n",
    "    # contain stopwords\n",
    "    df_train['clean_sw'] = [clean_text(x, remove_stopword=False, use_bert=False) for x in df_train.text]\n",
    "    df_test['clean_sw'] = [clean_text(x, remove_stopword=False, use_bert=False) for x in df_test.text]\n",
    "\n",
    "    # no stopwords\n",
    "    df_train['clean_nsw'] = [clean_text(x, remove_stopword=True, use_bert=False) for x in df_train.text]\n",
    "    df_test['clean_nsw'] = [clean_text(x, remove_stopword=True, use_bert=False) for x in df_test.text]\n",
    "\n",
    "    # for bert deep learning\n",
    "    # reference: https://stackoverflow.com/questions/63633534/is-it-necessary-to-do-stopwords-removal-stemming-lemmatization-for-text-classif\n",
    "    # when using contextual model like bert, stopwords are kept to provide context information like negation words, e.g., not, nor\n",
    "    df_train['bert'] = [clean_text(x, remove_stopword=False, use_bert=True) for x in df_train.text]\n",
    "    df_test['bert'] = [clean_text(x, remove_stopword=False, use_bert=True) for x in df_test.text]\n",
    "\n",
    "    # normalize with part-of-speech tagging (each word)\n",
    "    # with stopwords\n",
    "    df_train['clean_sw_normalize'] = [pos_and_lemm(x) for x in df_train.clean_sw]\n",
    "    df_test['clean_sw_normalize'] = [pos_and_lemm(x) for x in df_test.clean_sw]\n",
    "\n",
    "    # without stopwords\n",
    "    df_train['clean_nsw_normalize'] = [pos_and_lemm(x) for x in df_train.clean_nsw]\n",
    "    df_test['clean_nsw_normalize'] = [pos_and_lemm(x) for x in df_test.clean_nsw]\n",
    "\n",
    "    if save_preprocessed_data:\n",
    "        save_train_test_dataset(df_train, df_test)"
   ]
  },
  {
   "cell_type": "code",
   "execution_count": 6,
   "metadata": {},
   "outputs": [
    {
     "name": "stdout",
     "output_type": "stream",
     "text": [
      "Load from CSV - Train Size: 35000 and Test Size: 15000\n"
     ]
    }
   ],
   "source": [
    "# load csv if containing train.csv and test.csv else build from tensorflow dataset\n",
    "train_filepath = \"./train.csv\"\n",
    "test_filepath = \"./test.csv\"\n",
    "if os.path.isfile(train_filepath) and os.path.isfile(test_filepath):      # change to your corresponding filepath\n",
    "    df_train = pd.read_csv(train_filepath)\n",
    "    df_test = pd.read_csv(test_filepath)\n",
    "    print(f\"Load from CSV - Train Size: {len(df_train)} and Test Size: {len(df_test)}\")\n",
    "else:\n",
    "    df_train, df_test = build_and_clean()\n",
    "    df_train, df_test = preprocess_train_and_test(df_train, df_test, save_preprocessed_data=True)\n",
    "    print(f\"Build from TF Dataset - Train Size: {len(df_train)} and Test Size: {len(df_test)}\")"
   ]
  },
  {
   "cell_type": "markdown",
   "metadata": {},
   "source": [
    "#### Functions to Save Model and Output Metrics"
   ]
  },
  {
   "cell_type": "code",
   "execution_count": 7,
   "metadata": {},
   "outputs": [],
   "source": [
    "def save_model(models: list, filename: str):\n",
    "    joblib.dump(models, filename, compress=3)\n",
    "\n",
    "def print_metrics(accuracy, precision, recall, f1):\n",
    "    metrics_df = np.array([accuracy, precision, recall, f1])\n",
    "    metrics_df = pd.DataFrame([metrics_df], columns=['accuracy', 'precision', 'recall', 'f1'], index=['metrics'])\n",
    "    print('Performance Metrics:\\n')\n",
    "    print(tabulate.tabulate(metrics_df, headers='keys', tablefmt='github'))\n",
    "\n",
    "def plot_confusion_matrix(test_sentiment, pred, plot_title):       # plot receiver operating characteristics (need to understand this!!!)\n",
    "    cm = mtr.confusion_matrix(test_sentiment, pred)      # negative, positive\n",
    "    fig = plt.figure()\n",
    "    ax = fig.add_subplot(111)\n",
    "    fig.colorbar(ax.matshow(cm))\n",
    "\n",
    "    # reference: https://vitalflux.com/python-draw-confusion-matrix-matplotlib/\n",
    "    for row in range(cm.shape[0]):      # put numbers onto matrix -- O(n^2): can this be improved\n",
    "        for col in range(cm.shape[1]):\n",
    "            ax.text(x=col, y=row, s=cm[row, col], va='center', ha='center')\n",
    "\n",
    "    plt.xlabel('predicted')\n",
    "    plt.ylabel('true')\n",
    "    plt.title(plot_title)\n",
    "    plt.show()\n"
   ]
  },
  {
   "cell_type": "markdown",
   "metadata": {},
   "source": [
    "#### Multinomial Naive Bayes with and without Stop Words for Sentiment Analysis"
   ]
  },
  {
   "cell_type": "code",
   "execution_count": 8,
   "metadata": {},
   "outputs": [],
   "source": [
    "def train_model(train_feature, train_sentiment, test_feature, test_sentiment, output_model: bool, output_filename: str, tfidf_vectorizer):\n",
    "    mnb = MultinomialNB()\n",
    "    mnb.fit(train_feature, train_sentiment)\n",
    "    \n",
    "    #save model\n",
    "    if output_model:\n",
    "        save_model(models=[tfidf_vectorizer, mnb], filename=output_filename)   # save filename (should check for duplicates)\n",
    "\n",
    "    # predict\n",
    "    mnb_pred = mnb.predict(test_feature)\n",
    "    mnb_prob = mnb.predict_proba(test_feature)[:,1]     # for plotting receiver operating characteristic (roc) curve if needed\n",
    "\n",
    "    # model evaluation metrics\n",
    "    mnb_accuracy = np.round(mtr.accuracy_score(test_sentiment, mnb_pred), 3)\n",
    "    mnb_precision = np.round(mtr.precision_score(test_sentiment, mnb_pred, average=\"weighted\"), 3)\n",
    "    mnb_recall = np.round(mtr.recall_score(test_sentiment, mnb_pred), 3)\n",
    "    mnb_f1 = np.round(mtr.f1_score(test_sentiment, mnb_pred, average=\"weighted\"), 3)\n",
    "    return mnb_accuracy, mnb_precision, mnb_recall, mnb_f1, mnb_pred, mnb_prob"
   ]
  },
  {
   "cell_type": "markdown",
   "metadata": {},
   "source": [
    "**Train With Stopwords**"
   ]
  },
  {
   "cell_type": "code",
   "execution_count": 9,
   "metadata": {},
   "outputs": [
    {
     "name": "stdout",
     "output_type": "stream",
     "text": [
      "Performance Metrics:\n",
      "\n",
      "|         |   accuracy |   precision |   recall |    f1 |\n",
      "|---------|------------|-------------|----------|-------|\n",
      "| metrics |      0.885 |       0.887 |    0.855 | 0.885 |\n"
     ]
    },
    {
     "data": {
      "image/png": "[encoded data removed]",
      "text/plain": [
       "<Figure size 432x288 with 2 Axes>"
      ]
     },
     "metadata": {
      "needs_background": "light"
     },
     "output_type": "display_data"
    }
   ],
   "source": [
    "# ngram_range - a tuple of lower and upper boundary of range of n-values for different n-grams to be extracted\n",
    "vectorizer = TfidfVectorizer(ngram_range=(1,2), use_idf=True)\n",
    "train_feature = vectorizer.fit_transform(df_train['clean_sw_normalize'].ravel())     #  contiguous flattened array\n",
    "train_sentiment = df_train['label']\n",
    "test_feature = vectorizer.transform(df_test['clean_sw_normalize'].ravel())\n",
    "test_sentiment = df_test['label']\n",
    "\n",
    "mnb_accuracy, mnb_precision, mnb_recall, mnb_f1, mnb_pred, mnb_prob = train_model(train_feature=train_feature,\n",
    "                                                                                  train_sentiment=train_sentiment,\n",
    "                                                                                  test_feature=test_feature,\n",
    "                                                                                  test_sentiment=test_sentiment,\n",
    "                                                                                  output_model=True, \n",
    "                                                                                  output_filename='multinomialnb_with_stopwords.joblib',\n",
    "                                                                                  tfidf_vectorizer=vectorizer)\n",
    "\n",
    "print_metrics(mnb_accuracy, mnb_precision, mnb_recall, mnb_f1)\n",
    "plot_title = 'Confusion Matrix of ML - Multinomial NB with Stopwords\\n'\n",
    "plot_confusion_matrix(test_sentiment=test_sentiment, pred=mnb_pred, plot_title=plot_title)"
   ]
  },
  {
   "cell_type": "markdown",
   "metadata": {},
   "source": [
    "**Results:**\n",
    "- **Label \"0\"** - Negative Sentiment.\n",
    "- **Label \"1\"** - Positive Sentiment\n",
    "- Correctly predicted **6869** negative sentiments. **629** of the negative sentiments were predicted to be positive sentiments.\n",
    "- Correctly predicted **6411** positive sentiments. **1091** of the positive sentiments were predicted to be negative sentiments."
   ]
  },
  {
   "cell_type": "markdown",
   "metadata": {},
   "source": [
    "**Train Without Stopwords**"
   ]
  },
  {
   "cell_type": "code",
   "execution_count": 10,
   "metadata": {},
   "outputs": [
    {
     "name": "stdout",
     "output_type": "stream",
     "text": [
      "Performance Metrics:\n",
      "\n",
      "|         |   accuracy |   precision |   recall |    f1 |\n",
      "|---------|------------|-------------|----------|-------|\n",
      "| metrics |      0.885 |       0.885 |    0.872 | 0.885 |\n"
     ]
    },
    {
     "data": {
      "image/png": "[encoded data removed]",
      "text/plain": [
       "<Figure size 432x288 with 2 Axes>"
      ]
     },
     "metadata": {
      "needs_background": "light"
     },
     "output_type": "display_data"
    }
   ],
   "source": [
    "# ngram_range - a tuple of lower and upper boundary of range of n-values for different n-grams to be extracted\n",
    "vectorizer = TfidfVectorizer(ngram_range=(1,2), use_idf=True)\n",
    "train_feature = vectorizer.fit_transform(df_train['clean_nsw_normalize'].ravel())     #  contiguous flattened array\n",
    "train_sentiment = df_train['label']\n",
    "test_feature = vectorizer.transform(df_test['clean_nsw_normalize'].ravel())\n",
    "test_sentiment = df_test['label']\n",
    "\n",
    "mnb_accuracy, mnb_precision, mnb_recall, mnb_f1, mnb_pred, mnb_prob = train_model(train_feature=train_feature,\n",
    "                                                                                  train_sentiment=train_sentiment,\n",
    "                                                                                  test_feature=test_feature,\n",
    "                                                                                  test_sentiment=test_sentiment,\n",
    "                                                                                  output_model=True, \n",
    "                                                                                  output_filename='multinomialnb_no_stopwords.joblib', \n",
    "                                                                                  tfidf_vectorizer=vectorizer)\n",
    "\n",
    "print_metrics(mnb_accuracy, mnb_precision, mnb_recall, mnb_f1)\n",
    "plot_title = 'Confusion Matrix of ML - Multinomial NB without Stopwords\\n'\n",
    "plot_confusion_matrix(test_sentiment=test_sentiment, pred=mnb_pred, plot_title=plot_title)"
   ]
  },
  {
   "cell_type": "markdown",
   "metadata": {},
   "source": [
    "**Results:**\n",
    "- **Label \"0\"** - Negative Sentiment.\n",
    "- **Label \"1\"** - Positive Sentiment\n",
    "- Correctly predicted **6731** negative sentiments. **767** of the negative sentiments were predicted to be positive sentiments.\n",
    "- Correctly predicted **6543** positive sentiments. **959** of the positive sentiments were predicted to be negative sentiments."
   ]
  },
  {
   "cell_type": "markdown",
   "metadata": {},
   "source": [
    "**Observations:**\n",
    "- Results showed that stop words, e.g, a, the, is, are, etc. can some affect on the overall performance metrics, specifically on the precision score and recall score.\n",
    "- It has a difference of 0.2% and 1.7% in the precision score and recall score, respectively, between training with stop words and without stop words."
   ]
  },
  {
   "cell_type": "code",
   "execution_count": null,
   "metadata": {},
   "outputs": [],
   "source": [
    "# xx = joblib.load('./multinomialnb_with_stopwords.joblib')\n",
    "# vect = joblib.load('./multinomialnb_with_stopwords_vectorizer.joblib')\n",
    "\n",
    "# a = vect.transform(['today is a day!!!'])    # must be an array\n",
    "# xnew = xx.predict(a)\n",
    "# probability = xx.predict_proba(a)\n",
    "# print(xnew[0])\n",
    "# print(probability)\n",
    "# print(probability[:,xnew[0]])          # class 0 = 1st col, class 1 = 2nd col"
   ]
  },
  {
   "cell_type": "markdown",
   "metadata": {},
   "source": [
    "#### BERT Approach for Sentiment Analysis\n",
    "\n",
    "Reference: [Orhan G. Yalçın](https://towardsdatascience.com/sentiment-analysis-in-10-minutes-with-bert-and-hugging-face-294e8a04b671)"
   ]
  },
  {
   "cell_type": "code",
   "execution_count": 4,
   "metadata": {},
   "outputs": [
    {
     "name": "stderr",
     "output_type": "stream",
     "text": [
      "All model checkpoint layers were used when initializing TFBertForSequenceClassification.\n",
      "\n",
      "Some layers of TFBertForSequenceClassification were not initialized from the model checkpoint at bert-base-uncased and are newly initialized: ['classifier']\n",
      "You should probably TRAIN this model on a down-stream task to be able to use it for predictions and inference.\n"
     ]
    }
   ],
   "source": [
    "# pre-trained model\n",
    "model = TFBertForSequenceClassification.from_pretrained('bert-base-uncased')\n",
    "tokenizer = BertTokenizer.from_pretrained(\"bert-base-uncased\")"
   ]
  },
  {
   "cell_type": "code",
   "execution_count": 68,
   "metadata": {},
   "outputs": [
    {
     "name": "stdout",
     "output_type": "stream",
     "text": [
      "Model: \"tf_bert_for_sequence_classification_1\"\n",
      "_________________________________________________________________\n",
      " Layer (type)                Output Shape              Param #   \n",
      "=================================================================\n",
      " bert (TFBertMainLayer)      multiple                  109482240 \n",
      "                                                                 \n",
      " dropout_75 (Dropout)        multiple                  0         \n",
      "                                                                 \n",
      " classifier (Dense)          multiple                  1538      \n",
      "                                                                 \n",
      "=================================================================\n",
      "Total params: 109,483,778\n",
      "Trainable params: 109,483,778\n",
      "Non-trainable params: 0\n",
      "_________________________________________________________________\n"
     ]
    }
   ],
   "source": [
    "model.summary()"
   ]
  },
  {
   "cell_type": "code",
   "execution_count": 69,
   "metadata": {},
   "outputs": [],
   "source": [
    "# get only the require columns\n",
    "df_train_bert = df_train[['bert', 'label']].copy()\n",
    "df_test_bert = df_test[['bert', 'label']].copy()"
   ]
  },
  {
   "cell_type": "code",
   "execution_count": 70,
   "metadata": {},
   "outputs": [],
   "source": [
    "# create sequences by converting train/test data into suitable objects for BERT model\n",
    "def convert_to_examples(train: pd.DataFrame, test: pd.DataFrame) -> tuple[InputExample, InputExample]:\n",
    "    train_examples = train.apply(lambda x: InputExample(guid=None, \n",
    "                                                        text_a=x['bert'].strip(), \n",
    "                                                        text_b=None, \n",
    "                                                        label=x['label']), axis=1)\n",
    "    \n",
    "    test_examples = test.apply(lambda x: InputExample(guid=None,\n",
    "                                                      text_a=x['bert'].strip(),\n",
    "                                                      text_b=None,\n",
    "                                                      label=x['label']), axis=1)\n",
    "\n",
    "    return train_examples, test_examples"
   ]
  },
  {
   "cell_type": "code",
   "execution_count": 71,
   "metadata": {},
   "outputs": [],
   "source": [
    "train_examples, test_examples = convert_to_examples(df_train_bert, df_test_bert)"
   ]
  },
  {
   "cell_type": "code",
   "execution_count": 92,
   "metadata": {},
   "outputs": [],
   "source": [
    "# tokenize input examples and create require input format with the tokenized objects for the model\n",
    "# increase max length if have higher specs\n",
    "def convert_to_tf(train_examples: list, tokenizer: BertTokenizer, max_length=64):\n",
    "    features = []       # to store input features\n",
    "    for example in train_examples:\n",
    "        input_dict = tokenizer.__call__(\n",
    "            example.text_a,\n",
    "            add_special_tokens=True,\n",
    "            padding='max_length',\n",
    "            max_length=max_length,      # will pad to the maximum input size of the model, i.e., 512 for Bert\n",
    "            return_token_type_ids=True,\n",
    "            return_attention_mask=True,\n",
    "            truncation=True,\n",
    "        )\n",
    "\n",
    "        input_ids, token_type_ids, attention_mask = (input_dict['input_ids'], \n",
    "                                                     input_dict['token_type_ids'],\n",
    "                                                     input_dict['attention_mask'])\n",
    "        features.append(InputFeatures(input_ids=input_ids, \n",
    "                                      attention_mask=attention_mask, \n",
    "                                      token_type_ids=token_type_ids,\n",
    "                                      label=example.label))\n",
    "\n",
    "    def generate() :\n",
    "        for feature in features:\n",
    "            yield({\n",
    "                \"input_ids\": feature.input_ids,\n",
    "                \"attention_mask\": feature.attention_mask,\n",
    "                \"token_type_ids\": feature.token_type_ids,\n",
    "            }, feature.label)\n",
    "    \n",
    "    return tf.data.Dataset.from_generator(generate,\n",
    "                                          ({\"input_ids\": tf.int32, \n",
    "                                            \"attention_mask\": tf.int32, \n",
    "                                            \"token_type_ids\": tf.int32}, tf.int64),\n",
    "                                          (\n",
    "                                              {\n",
    "                                                  \"input_ids\": tf.TensorShape([None]),\n",
    "                                                  \"attention_mask\": tf.TensorShape([None]),\n",
    "                                                  \"token_type_ids\": tf.TensorShape([None]),\n",
    "                                              }, tf.TensorShape([]) \n",
    "                                          ))"
   ]
  },
  {
   "cell_type": "code",
   "execution_count": 96,
   "metadata": {},
   "outputs": [],
   "source": [
    "# prepare train and test dataset\n",
    "# increase batch size if have higher specs\n",
    "train_data = convert_to_tf(list(train_examples), tokenizer)\n",
    "train_data = train_data.shuffle(100).batch(16).repeat(2)\n",
    "\n",
    "test_data = convert_to_tf(list(test_examples), tokenizer)\n",
    "test_data = test_data.batch(16)"
   ]
  },
  {
   "cell_type": "code",
   "execution_count": 97,
   "metadata": {},
   "outputs": [],
   "source": [
    "# train bert and using Adam as optimizer, categorical cross entropy as loss, and sparse categorical as accuracy\n",
    "optimizer = tf.keras.optimizers.Adam(learning_rate=3e-5, epsilon=1e-08, clipnorm=1.0)\n",
    "loss = tf.keras.losses.SparseCategoricalCrossentropy(from_logits=True)\n",
    "metrics = [tf.keras.metrics.SparseCategoricalAccuracy('accuracy')]\n",
    "\n",
    "model.compile(optimizer=optimizer, loss=loss, metrics=metrics)"
   ]
  },
  {
   "cell_type": "code",
   "execution_count": 98,
   "metadata": {},
   "outputs": [
    {
     "name": "stdout",
     "output_type": "stream",
     "text": [
      "Epoch 1/5\n",
      "4376/4376 [==============================] - 3110s 704ms/step - loss: 0.3053 - accuracy: 0.8625 - val_loss: 0.4348 - val_accuracy: 0.8326\n",
      "Epoch 2/5\n",
      "4376/4376 [==============================] - 3074s 702ms/step - loss: 0.0731 - accuracy: 0.9737 - val_loss: 0.6425 - val_accuracy: 0.8377\n",
      "Epoch 3/5\n",
      "4376/4376 [==============================] - 3055s 698ms/step - loss: 0.0339 - accuracy: 0.9888 - val_loss: 0.8713 - val_accuracy: 0.8433\n",
      "Epoch 4/5\n",
      "4376/4376 [==============================] - 3056s 698ms/step - loss: 0.0278 - accuracy: 0.9907 - val_loss: 0.7385 - val_accuracy: 0.8457\n",
      "Epoch 5/5\n",
      "4376/4376 [==============================] - 3060s 699ms/step - loss: 0.0201 - accuracy: 0.9929 - val_loss: 0.8024 - val_accuracy: 0.8430\n"
     ]
    },
    {
     "data": {
      "text/plain": [
       "<keras.callbacks.History at 0x224baf50220>"
      ]
     },
     "execution_count": 98,
     "metadata": {},
     "output_type": "execute_result"
    }
   ],
   "source": [
    "# here can edit to save checkpoints\n",
    "filepath = '[replace with your own data directory]'\n",
    "callback = tf.keras.callback.ModelCheckpoint(filepath=filepath, \n",
    "                                             monitor='val_acc', \n",
    "                                             verbose=0, \n",
    "                                             save_best_only=True, \n",
    "                                             mode='auto')\n",
    "\n",
    "model.fit(train_data, epochs=5, validation_data=test_data, callbacks=[callback])"
   ]
  },
  {
   "cell_type": "code",
   "execution_count": 99,
   "metadata": {},
   "outputs": [],
   "source": [
    "# save model\n",
    "model.save_pretrained('.')"
   ]
  },
  {
   "cell_type": "code",
   "execution_count": 2,
   "metadata": {},
   "outputs": [
    {
     "name": "stderr",
     "output_type": "stream",
     "text": [
      "All model checkpoint layers were used when initializing TFBertForSequenceClassification.\n",
      "\n",
      "Some layers of TFBertForSequenceClassification were not initialized from the model checkpoint at bert-base-uncased and are newly initialized: ['classifier']\n",
      "You should probably TRAIN this model on a down-stream task to be able to use it for predictions and inference.\n"
     ]
    }
   ],
   "source": [
    "# load model\n",
    "load_model = TFBertForSequenceClassification.from_pretrained('bert-base-uncased')\n",
    "load_model.load_weights('./tf_model.h5')"
   ]
  },
  {
   "cell_type": "code",
   "execution_count": 7,
   "metadata": {},
   "outputs": [
    {
     "data": {
      "text/plain": [
       "array([[0.17809248, 0.8219076 ]], dtype=float32)"
      ]
     },
     "execution_count": 7,
     "metadata": {},
     "output_type": "execute_result"
    }
   ],
   "source": [
    "# prediction\n",
    "text = \"Today is a good day, maybe!\"\n",
    "text_token = tokenizer(text, truncation=True, padding=True, return_tensors='tf')\n",
    "pred = load_model(text_token)\n",
    "pred_probs = tf.nn.softmax(pred[0], axis=1).numpy()\n",
    "pred_probs          # [negative, positive] prob.\n"
   ]
  },
  {
   "cell_type": "code",
   "execution_count": 8,
   "metadata": {},
   "outputs": [
    {
     "data": {
      "text/plain": [
       "array([1], dtype=int64)"
      ]
     },
     "execution_count": 8,
     "metadata": {},
     "output_type": "execute_result"
    }
   ],
   "source": [
    "pred_label = tf.argmax(pred_probs, axis=1).numpy()\n",
    "pred_label"
   ]
  },
  {
   "cell_type": "code",
   "execution_count": null,
   "metadata": {},
   "outputs": [],
   "source": [
    "# end of file"
   ]
  }
 ],
 "metadata": {
  "interpreter": {
   "hash": "5766725d235d92a3f587ad84880941c04bca390e8d595877301ef928828de224"
  },
  "kernelspec": {
   "display_name": "env",
   "language": "python",
   "name": "python3"
  },
  "language_info": {
   "codemirror_mode": {
    "name": "ipython",
    "version": 3
   },
   "file_extension": ".py",
   "mimetype": "text/x-python",
   "name": "python",
   "nbconvert_exporter": "python",
   "pygments_lexer": "ipython3",
   "version": "3.9.0"
  }
 },
 "nbformat": 4,
 "nbformat_minor": 4
}
